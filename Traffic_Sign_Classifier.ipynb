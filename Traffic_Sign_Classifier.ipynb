{
 "cells": [
  {
   "cell_type": "markdown",
   "metadata": {},
   "source": [
    "# Self-Driving Car Engineer Nanodegree\n",
    "\n",
    "## Deep Learning\n",
    "\n",
    "## Project: Build a Traffic Sign Recognition Classifier\n",
    "\n",
    "In this notebook, a template is provided for you to implement your functionality in stages, which is required to successfully complete this project. If additional code is required that cannot be included in the notebook, be sure that the Python code is successfully imported and included in your submission if necessary. \n",
    "\n",
    "> **Note**: Once you have completed all of the code implementations, you need to finalize your work by exporting the iPython Notebook as an HTML document. Before exporting the notebook to html, all of the code cells need to have been run so that reviewers can see the final implementation and output. You can then export the notebook by using the menu above and navigating to  \\n\",\n",
    "    \"**File -> Download as -> HTML (.html)**. Include the finished document along with this notebook as your submission. \n",
    "\n",
    "In addition to implementing code, there is a writeup to complete. The writeup should be completed in a separate file, which can be either a markdown file or a pdf document. There is a [write up template](https://github.com/udacity/CarND-Traffic-Sign-Classifier-Project/blob/master/writeup_template.md) that can be used to guide the writing process. Completing the code template and writeup template will cover all of the [rubric points](https://review.udacity.com/#!/rubrics/481/view) for this project.\n",
    "\n",
    "The [rubric](https://review.udacity.com/#!/rubrics/481/view) contains \"Stand Out Suggestions\" for enhancing the project beyond the minimum requirements. The stand out suggestions are optional. If you decide to pursue the \"stand out suggestions\", you can include the code in this Ipython notebook and also discuss the results in the writeup file.\n",
    "\n",
    "\n",
    ">**Note:** Code and Markdown cells can be executed using the **Shift + Enter** keyboard shortcut. In addition, Markdown cells can be edited by typically double-clicking the cell to enter edit mode."
   ]
  },
  {
   "cell_type": "markdown",
   "metadata": {},
   "source": [
    "---\n",
    "## Step 0: Load The Data"
   ]
  },
  {
   "cell_type": "code",
   "execution_count": 1,
   "metadata": {
    "collapsed": true
   },
   "outputs": [],
   "source": [
    "# Load pickled data\n",
    "import pickle\n",
    "\n",
    "# TODO: Fill this in based on where you saved the training and testing data\n",
    "\n",
    "training_file = 'train.p'\n",
    "validation_file= 'valid.p'\n",
    "testing_file = 'test.p'\n",
    "\n",
    "with open(training_file, mode='rb') as f:\n",
    "    train = pickle.load(f)\n",
    "with open(validation_file, mode='rb') as f:\n",
    "    valid = pickle.load(f)\n",
    "with open(testing_file, mode='rb') as f:\n",
    "    test = pickle.load(f)\n",
    "    \n",
    "X_train, y_train = train['features'], train['labels']\n",
    "X_valid, y_valid = valid['features'], valid['labels']\n",
    "X_test, y_test = test['features'], test['labels']"
   ]
  },
  {
   "cell_type": "markdown",
   "metadata": {},
   "source": [
    "---\n",
    "\n",
    "## Step 1: Dataset Summary & Exploration\n",
    "\n",
    "The pickled data is a dictionary with 4 key/value pairs:\n",
    "\n",
    "- `'features'` is a 4D array containing raw pixel data of the traffic sign images, (num examples, width, height, channels).\n",
    "- `'labels'` is a 1D array containing the label/class id of the traffic sign. The file `signnames.csv` contains id -> name mappings for each id.\n",
    "- `'sizes'` is a list containing tuples, (width, height) representing the original width and height the image.\n",
    "- `'coords'` is a list containing tuples, (x1, y1, x2, y2) representing coordinates of a bounding box around the sign in the image. **THESE COORDINATES ASSUME THE ORIGINAL IMAGE. THE PICKLED DATA CONTAINS RESIZED VERSIONS (32 by 32) OF THESE IMAGES**\n",
    "\n",
    "Complete the basic data summary below. Use python, numpy and/or pandas methods to calculate the data summary rather than hard coding the results. For example, the [pandas shape method](http://pandas.pydata.org/pandas-docs/stable/generated/pandas.DataFrame.shape.html) might be useful for calculating some of the summary results. "
   ]
  },
  {
   "cell_type": "markdown",
   "metadata": {},
   "source": [
    "### Provide a Basic Summary of the Data Set Using Python, Numpy and/or Pandas"
   ]
  },
  {
   "cell_type": "code",
   "execution_count": 2,
   "metadata": {},
   "outputs": [
    {
     "name": "stdout",
     "output_type": "stream",
     "text": [
      "Number of training examples = 34799\n",
      "Number of testing examples = 12630\n",
      "Image data shape = (32, 32, 3)\n",
      "Number of classes = 43\n"
     ]
    }
   ],
   "source": [
    "### Replace each question mark with the appropriate value. \n",
    "### Use python, pandas or numpy methods rather than hard coding the results\n",
    "import numpy as np\n",
    "# TODO: Number of training examples\n",
    "n_train = len(X_train)\n",
    "\n",
    "# TODO: Number of validation examples\n",
    "n_validation = len(X_valid)\n",
    "\n",
    "# TODO: Number of testing examples.\n",
    "n_test = len(X_test)\n",
    "\n",
    "# TODO: What's the shape of an traffic sign image?\n",
    "image_shape = X_train[0].shape\n",
    "\n",
    "# TODO: How many unique classes/labels there are in the dataset.\n",
    "n_classes = len(np.unique(y_train))\n",
    "\n",
    "print(\"Number of training examples =\", n_train)\n",
    "print(\"Number of testing examples =\", n_test)\n",
    "print(\"Image data shape =\", image_shape)\n",
    "print(\"Number of classes =\", n_classes)"
   ]
  },
  {
   "cell_type": "markdown",
   "metadata": {},
   "source": [
    "### Include an exploratory visualization of the dataset"
   ]
  },
  {
   "cell_type": "markdown",
   "metadata": {},
   "source": [
    "Visualize the German Traffic Signs Dataset using the pickled file(s). This is open ended, suggestions include: plotting traffic sign images, plotting the count of each sign, etc. \n",
    "\n",
    "The [Matplotlib](http://matplotlib.org/) [examples](http://matplotlib.org/examples/index.html) and [gallery](http://matplotlib.org/gallery.html) pages are a great resource for doing visualizations in Python.\n",
    "\n",
    "**NOTE:** It's recommended you start with something simple first. If you wish to do more, come back to it after you've completed the rest of the sections. It can be interesting to look at the distribution of classes in the training, validation and test set. Is the distribution the same? Are there more examples of some classes than others?"
   ]
  },
  {
   "cell_type": "code",
   "execution_count": 3,
   "metadata": {},
   "outputs": [],
   "source": [
    "### Data exploration visualization code goes here.\n",
    "### Feel free to use as many code cells as needed.\n",
    "import matplotlib.pyplot as plt\n",
    "import random\n",
    "# Visualizations will be shown in the notebook.\n",
    "%matplotlib inline"
   ]
  },
  {
   "cell_type": "code",
   "execution_count": 4,
   "metadata": {},
   "outputs": [],
   "source": [
    "# Get the counts and indices of unique data\n",
    "u, indices, counts = np.unique(y_train, return_index=True, return_counts = True)"
   ]
  },
  {
   "cell_type": "code",
   "execution_count": 5,
   "metadata": {},
   "outputs": [
    {
     "data": {
      "image/png": "[encoded data removed]",
      "text/plain": [
       "<matplotlib.figure.Figure at 0x7f3c5d052978>"
      ]
     },
     "metadata": {},
     "output_type": "display_data"
    }
   ],
   "source": [
    "# Plot the count of each sign\n",
    "labels =list(range(n_classes))\n",
    "labels = np.asarray(labels)\n",
    "plt.scatter(labels, counts)\n",
    "plt.grid()"
   ]
  },
  {
   "cell_type": "code",
   "execution_count": 6,
   "metadata": {},
   "outputs": [
    {
     "name": "stdout",
     "output_type": "stream",
     "text": [
      "Label:   0, Count:    180 \n",
      "Label:   1, Count:   1980 \n",
      "Label:   2, Count:   2010 \n",
      "Label:   3, Count:   1260 \n",
      "Label:   4, Count:   1770 \n",
      "Label:   5, Count:   1650 \n",
      "Label:   6, Count:    360 \n",
      "Label:   7, Count:   1290 \n",
      "Label:   8, Count:   1260 \n",
      "Label:   9, Count:   1320 \n",
      "Label:  10, Count:   1800 \n",
      "Label:  11, Count:   1170 \n",
      "Label:  12, Count:   1890 \n",
      "Label:  13, Count:   1920 \n",
      "Label:  14, Count:    690 \n",
      "Label:  15, Count:    540 \n",
      "Label:  16, Count:    360 \n",
      "Label:  17, Count:    990 \n",
      "Label:  18, Count:   1080 \n",
      "Label:  19, Count:    180 \n",
      "Label:  20, Count:    300 \n",
      "Label:  21, Count:    270 \n",
      "Label:  22, Count:    330 \n",
      "Label:  23, Count:    450 \n",
      "Label:  24, Count:    240 \n",
      "Label:  25, Count:   1350 \n",
      "Label:  26, Count:    540 \n",
      "Label:  27, Count:    210 \n",
      "Label:  28, Count:    480 \n",
      "Label:  29, Count:    240 \n",
      "Label:  30, Count:    390 \n",
      "Label:  31, Count:    690 \n",
      "Label:  32, Count:    210 \n",
      "Label:  33, Count:    599 \n",
      "Label:  34, Count:    360 \n",
      "Label:  35, Count:   1080 \n",
      "Label:  36, Count:    330 \n",
      "Label:  37, Count:    180 \n",
      "Label:  38, Count:   1860 \n",
      "Label:  39, Count:    270 \n",
      "Label:  40, Count:    300 \n",
      "Label:  41, Count:    210 \n",
      "Label:  42, Count:    210 \n"
     ]
    }
   ],
   "source": [
    "# Print the count of each sign\n",
    "for i in range(n_classes):\n",
    "    print(\"Label:  %2d, Count: %6d \" %(i,counts[i]))"
   ]
  },
  {
   "cell_type": "code",
   "execution_count": 7,
   "metadata": {},
   "outputs": [
    {
     "data": {
      "image/png": "[encoded data removed]",
      "text/plain": [
       "<matplotlib.figure.Figure at 0x7f3c5d010a20>"
      ]
     },
     "metadata": {},
     "output_type": "display_data"
    }
   ],
   "source": [
    "# plotting traffic sign images\n",
    "fig=plt.figure(figsize=(8, 8))\n",
    "columns = 8\n",
    "rows = 8\n",
    "count = 1\n",
    "for i in indices:\n",
    "    img = X_train[i].squeeze()\n",
    "    fig.add_subplot(rows, columns, count)\n",
    "    count = count + 1\n",
    "    plt.imshow(img)\n",
    "plt.show()"
   ]
  },
  {
   "cell_type": "markdown",
   "metadata": {},
   "source": [
    "----\n",
    "\n",
    "## Step 2: Design and Test a Model Architecture\n",
    "\n",
    "Design and implement a deep learning model that learns to recognize traffic signs. Train and test your model on the [German Traffic Sign Dataset](http://benchmark.ini.rub.de/?section=gtsrb&subsection=dataset).\n",
    "\n",
    "The LeNet-5 implementation shown in the [classroom](https://classroom.udacity.com/nanodegrees/nd013/parts/fbf77062-5703-404e-b60c-95b78b2f3f9e/modules/6df7ae49-c61c-4bb2-a23e-6527e69209ec/lessons/601ae704-1035-4287-8b11-e2c2716217ad/concepts/d4aca031-508f-4e0b-b493-e7b706120f81) at the end of the CNN lesson is a solid starting point. You'll have to change the number of classes and possibly the preprocessing, but aside from that it's plug and play! \n",
    "\n",
    "With the LeNet-5 solution from the lecture, you should expect a validation set accuracy of about 0.89. To meet specifications, the validation set accuracy will need to be at least 0.93. It is possible to get an even higher accuracy, but __0.93__ is the minimum for a successful project submission. \n",
    "\n",
    "There are various aspects to consider when thinking about this problem:\n",
    "\n",
    "- Neural network architecture (is the network over or underfitting?)\n",
    "- Play around preprocessing techniques (normalization, rgb to grayscale, etc)\n",
    "- Number of examples per label (some have more than others).\n",
    "- Generate fake data.\n",
    "\n",
    "Here is an example of a [published baseline model on this problem](http://yann.lecun.com/exdb/publis/pdf/sermanet-ijcnn-11.pdf). It's not required to be familiar with the approach used in the paper but, it's good practice to try to read papers like these."
   ]
  },
  {
   "cell_type": "markdown",
   "metadata": {},
   "source": [
    "### Pre-process the Data Set (normalization, grayscale, etc.)"
   ]
  },
  {
   "cell_type": "markdown",
   "metadata": {},
   "source": [
    "Minimally, the image data should be normalized so that the data has mean zero and equal variance. For image data, `(pixel - 128)/ 128` is a quick way to approximately normalize the data and can be used in this project. \n",
    "\n",
    "Other pre-processing steps are optional. You can try different techniques to see if it improves performance. \n",
    "\n",
    "Use the code cell (or multiple code cells, if necessary) to implement the first step of your project."
   ]
  },
  {
   "cell_type": "code",
   "execution_count": 8,
   "metadata": {},
   "outputs": [],
   "source": [
    "# convert the training images to grayscale\n",
    "prep_X_train = []\n",
    "def rgb2gray(rgb):\n",
    "    return np.dot(rgb[...,:3], [0.299, 0.587, 0.114])\n",
    "for img in X_train:\n",
    "    prep_X_train.append(rgb2gray(img))\n",
    "prep_X_train = np.asarray(prep_X_train)\n",
    "prep_X_train = np.resize(prep_X_train,(n_train,32,32,1))"
   ]
  },
  {
   "cell_type": "code",
   "execution_count": 9,
   "metadata": {},
   "outputs": [],
   "source": [
    "# convert the validatiting images to grayscale\n",
    "prep_X_valid = []\n",
    "for img in X_valid:\n",
    "    prep_X_valid.append(rgb2gray(img))\n",
    "prep_X_valid = np.asarray(prep_X_valid)\n",
    "prep_X_valid = np.resize(prep_X_valid,(n_validation,32,32,1))"
   ]
  },
  {
   "cell_type": "code",
   "execution_count": 10,
   "metadata": {
    "collapsed": true
   },
   "outputs": [],
   "source": [
    "# convert the testing images to grayscale\n",
    "prep_X_test = []\n",
    "for img in X_test:\n",
    "    prep_X_test.append(rgb2gray(img))\n",
    "prep_X_test = np.asarray(prep_X_test)\n",
    "prep_X_test = np.resize(prep_X_test,(n_test,32,32,1))"
   ]
  },
  {
   "cell_type": "code",
   "execution_count": 11,
   "metadata": {
    "collapsed": true
   },
   "outputs": [],
   "source": [
    "# normalize all the images\n",
    "from sklearn.utils import shuffle\n",
    "prep_X_train, y_train = shuffle(prep_X_train, y_train)\n",
    "prep_X_train = (prep_X_train-128.0)/128.0\n",
    "prep_X_valid = (prep_X_valid-128.0)/128.0\n",
    "prep_X_test  = (prep_X_test-128.0)/128.0"
   ]
  },
  {
   "cell_type": "markdown",
   "metadata": {},
   "source": [
    "### Model Architecture"
   ]
  },
  {
   "cell_type": "code",
   "execution_count": 12,
   "metadata": {
    "collapsed": true
   },
   "outputs": [],
   "source": [
    "import tensorflow as tf\n",
    "\n",
    "EPOCHS = 20\n",
    "BATCH_SIZE = 32"
   ]
  },
  {
   "cell_type": "code",
   "execution_count": 13,
   "metadata": {
    "collapsed": true
   },
   "outputs": [],
   "source": [
    "from tensorflow.contrib.layers import flatten\n",
    "def TFRecC(x):\n",
    "    mu = 0\n",
    "    sigma = 0.1\n",
    "    # Layer 1, input: 32x32x1, output: 28x28x6 \n",
    "    conv1_W = tf.Variable(tf.truncated_normal(shape = (5,5,1,6), mean = mu, stddev = sigma))\n",
    "    conv1_b = tf.Variable(tf.zeros(6))\n",
    "    conv1 = tf.nn.conv2d(x,conv1_W, strides=  [1,1,1,1], padding = 'VALID') + conv1_b\n",
    "    \n",
    "    # Actication\n",
    "    conv1 = tf.nn.relu(conv1)\n",
    "    \n",
    "    # Pooling, input: 28x28x6, output: 14x14x6\n",
    "    conv1 = tf.nn.max_pool(conv1, ksize = [1,2,2,1], strides = [1,2,2,1], padding = 'VALID')\n",
    "    \n",
    "    #Layer 2, input: 14x14x6, output: 10x10x16\n",
    "    conv2_W = tf.Variable(tf.truncated_normal(shape = (5,5,6,16), mean = mu, stddev = sigma))\n",
    "    conv2_b = tf.Variable(tf.zeros(16))\n",
    "    conv2 = tf.nn.conv2d(conv1, conv2_W, strides = [1,1,1,1], padding= 'VALID') + conv2_b\n",
    "    \n",
    "    # Activation\n",
    "    conv2 = tf.nn.relu(conv2)\n",
    "    \n",
    "    # Pooling, input: 10x10x16, output: 5x5x16\n",
    "    conv2 = tf.nn.max_pool(conv2, ksize = [1,2,2,1], strides = [1,2,2,1], padding = 'VALID')\n",
    "    \n",
    "    # Flatten, input: 5x5x16, output: 400\n",
    "    fc0 = flatten(conv2)\n",
    "    \n",
    "    # Layer 3, input: 400, output: 200\n",
    "    fc1_W = tf.Variable(tf.truncated_normal(shape = (400,200), mean = mu, stddev = sigma))\n",
    "    fc1_b = tf.Variable(tf.zeros(200))\n",
    "    fc1 = tf.matmul(fc0,fc1_W) + fc1_b\n",
    "    \n",
    "    # Activation\n",
    "    fc1 = tf.nn.relu(fc1)\n",
    "    \n",
    "    # Layer 4, input: 200, output: 120\n",
    "    fc2_W = tf.Variable(tf.truncated_normal(shape = (200,120), mean = mu, stddev = sigma))\n",
    "    fc2_b = tf.Variable(tf.zeros(120))\n",
    "    fc2 = tf.matmul(fc1,fc2_W) + fc2_b\n",
    "    \n",
    "    # Activation\n",
    "    fc2 = tf.nn.relu(fc2)\n",
    "    \n",
    "    # Layer 5, input:120, output: 84\n",
    "    fc3_W = tf.Variable(tf.truncated_normal(shape = (120,84), mean = mu, stddev = sigma))\n",
    "    fc3_b = tf.Variable(tf.zeros(84))\n",
    "    fc3 = tf.matmul(fc2,fc3_W) + fc3_b\n",
    "    \n",
    "    # Activation\n",
    "    fc3 = tf.nn.relu(fc3)\n",
    "    \n",
    "    # Layer 6, input:84, output: 43\n",
    "    fc4_W = tf.Variable(tf.truncated_normal(shape = (84,43), mean = mu, stddev = sigma))\n",
    "    fc4_b = tf.Variable(tf.zeros(43))\n",
    "    logits = tf.matmul(fc3,fc4_W) + fc4_b\n",
    "    \n",
    "    return logits\n",
    "    "
   ]
  },
  {
   "cell_type": "markdown",
   "metadata": {},
   "source": [
    "### Train, Validate and Test the Model"
   ]
  },
  {
   "cell_type": "markdown",
   "metadata": {},
   "source": [
    "A validation set can be used to assess how well the model is performing. A low accuracy on the training and validation\n",
    "sets imply underfitting. A high accuracy on the training set but low accuracy on the validation set implies overfitting."
   ]
  },
  {
   "cell_type": "code",
   "execution_count": 14,
   "metadata": {
    "collapsed": true
   },
   "outputs": [],
   "source": [
    "# Features and labels\n",
    "x = tf.placeholder(tf.float32,(None,32,32,1))\n",
    "y = tf.placeholder(tf.int32,(None))\n",
    "one_hot_y = tf.one_hot(y,43)\n",
    "\n",
    "learning_rate = 0.0007\n",
    "logits = TFRecC(x)\n",
    "cross_entropy = tf.nn.softmax_cross_entropy_with_logits(labels=one_hot_y, logits=logits)\n",
    "loss_operation = tf.reduce_mean(cross_entropy)\n",
    "optimizer = tf.train.AdamOptimizer(learning_rate=learning_rate)\n",
    "training_operation = optimizer.minimize(loss_operation)"
   ]
  },
  {
   "cell_type": "markdown",
   "metadata": {},
   "source": [
    "### Model Evaluation"
   ]
  },
  {
   "cell_type": "code",
   "execution_count": 15,
   "metadata": {
    "collapsed": true
   },
   "outputs": [],
   "source": [
    "correct_prediction = tf.equal(tf.argmax(logits,1), tf.argmax(one_hot_y,1))\n",
    "accuracy_operation = tf.reduce_mean(tf.cast(correct_prediction, tf.float32))\n",
    "saver = tf.train.Saver()\n",
    "\n",
    "def evaluate(X_data, y_data):\n",
    "    num_examples = len(X_data)\n",
    "    total_accuracy = 0\n",
    "    sess = tf.get_default_session()\n",
    "    for offset in range(0,num_examples, BATCH_SIZE):\n",
    "        batch_x, batch_y = X_data[offset:offset+BATCH_SIZE], y_data[offset:offset+BATCH_SIZE]\n",
    "        accuracy = sess.run(accuracy_operation, feed_dict={x:batch_x, y: batch_y})\n",
    "        total_accuracy += (accuracy* len(batch_x))\n",
    "    return total_accuracy/num_examples"
   ]
  },
  {
   "cell_type": "markdown",
   "metadata": {},
   "source": [
    "# Train the Model "
   ]
  },
  {
   "cell_type": "code",
   "execution_count": 16,
   "metadata": {},
   "outputs": [
    {
     "name": "stdout",
     "output_type": "stream",
     "text": [
      "Training...\n",
      "\n",
      "EPOCH 1\n",
      "Validation_accuracy = 0.840\n",
      "\n",
      "EPOCH 2\n",
      "Validation_accuracy = 0.900\n",
      "\n",
      "EPOCH 3\n",
      "Validation_accuracy = 0.914\n",
      "\n",
      "EPOCH 4\n",
      "Validation_accuracy = 0.916\n",
      "\n",
      "EPOCH 5\n",
      "Validation_accuracy = 0.932\n",
      "\n",
      "EPOCH 6\n",
      "Validation_accuracy = 0.936\n",
      "\n",
      "EPOCH 7\n",
      "Validation_accuracy = 0.913\n",
      "\n",
      "EPOCH 8\n",
      "Validation_accuracy = 0.927\n",
      "\n",
      "EPOCH 9\n",
      "Validation_accuracy = 0.916\n",
      "\n",
      "EPOCH 10\n",
      "Validation_accuracy = 0.929\n",
      "\n",
      "EPOCH 11\n",
      "Validation_accuracy = 0.931\n",
      "\n",
      "EPOCH 12\n",
      "Validation_accuracy = 0.922\n",
      "\n",
      "EPOCH 13\n",
      "Validation_accuracy = 0.936\n",
      "\n",
      "EPOCH 14\n",
      "Validation_accuracy = 0.918\n",
      "\n",
      "EPOCH 15\n",
      "Validation_accuracy = 0.916\n",
      "\n",
      "EPOCH 16\n",
      "Validation_accuracy = 0.926\n",
      "\n",
      "EPOCH 17\n",
      "Validation_accuracy = 0.923\n",
      "\n",
      "EPOCH 18\n",
      "Validation_accuracy = 0.927\n",
      "\n",
      "EPOCH 19\n",
      "Validation_accuracy = 0.919\n",
      "\n",
      "EPOCH 20\n",
      "Validation_accuracy = 0.931\n",
      "\n",
      "Model saved\n"
     ]
    }
   ],
   "source": [
    "with tf.Session() as sess:\n",
    "    sess.run(tf.global_variables_initializer())\n",
    "    num_examples = n_train\n",
    "\n",
    "    print(\"Training...\")\n",
    "    print()\n",
    "    for i in range(EPOCHS):\n",
    "        prep_X_train, y_train = shuffle(prep_X_train,y_train)\n",
    "        for offset in range(0,num_examples, BATCH_SIZE):\n",
    "            end = offset + BATCH_SIZE\n",
    "            batch_x, batch_y = prep_X_train[offset:end], y_train[offset:end]\n",
    "            sess.run(training_operation, feed_dict={x:batch_x, y:batch_y})\n",
    "        \n",
    "        validation_accuracy = evaluate(prep_X_valid, y_valid)\n",
    "        print(\"EPOCH {}\".format(i+1))\n",
    "        print(\"Validation_accuracy = {:.3f}\".format(validation_accuracy))\n",
    "        print()\n",
    "    saver.save(sess,'./TSRecC')\n",
    "    print(\"Model saved\")"
   ]
  },
  {
   "cell_type": "markdown",
   "metadata": {},
   "source": [
    "# Evaluate the Model"
   ]
  },
  {
   "cell_type": "code",
   "execution_count": 17,
   "metadata": {},
   "outputs": [
    {
     "name": "stdout",
     "output_type": "stream",
     "text": [
      "Test Accuracy = 0.92\n"
     ]
    }
   ],
   "source": [
    "with tf.Session() as sess:\n",
    "    saver.restore(sess,tf.train.latest_checkpoint('.'))\n",
    "    \n",
    "    test_accuracy = evaluate(prep_X_test, y_test)\n",
    "    print(\"Test Accuracy = {:.2f}\".format(test_accuracy))"
   ]
  },
  {
   "cell_type": "markdown",
   "metadata": {},
   "source": [
    "---\n",
    "\n",
    "## Step 3: Test a Model on New Images\n",
    "\n",
    "To give yourself more insight into how your model is working, download at least five pictures of German traffic signs from the web and use your model to predict the traffic sign type.\n",
    "\n",
    "You may find `signnames.csv` useful as it contains mappings from the class id (integer) to the actual sign name."
   ]
  },
  {
   "cell_type": "markdown",
   "metadata": {},
   "source": [
    "### Load and Output the Images"
   ]
  },
  {
   "cell_type": "code",
   "execution_count": 27,
   "metadata": {
    "collapsed": true
   },
   "outputs": [],
   "source": [
    "### Load the images and plot them here.\n",
    "### Feel free to use as many code cells as needed.\n",
    "from PIL import Image\n",
    "import matplotlib.pyplot as plt\n",
    "import glob\n",
    "import numpy as np\n",
    "# Load the 5 test images\n",
    "test_list = glob.glob('New_Images/*.png')\n",
    "test_list = np.array([np.array(Image.open(fname)) for fname in test_list])\n",
    "x_list = np.zeros((5, 32, 32, 3))\n",
    "for i in range (0,5):\n",
    "    x_list[i] = test_list[i][:,:,:3]\n",
    "test_label = np.array([28, 40, 0, 34, 13])"
   ]
  },
  {
   "cell_type": "code",
   "execution_count": 29,
   "metadata": {},
   "outputs": [
    {
     "data": {
      "image/png": "[encoded data removed]",
      "text/plain": [
       "<matplotlib.figure.Figure at 0x7f3c17689400>"
      ]
     },
     "metadata": {},
     "output_type": "display_data"
    }
   ],
   "source": [
    "# plot the 5 images\n",
    "fig=plt.figure(figsize=(8, 8))\n",
    "columns = 5\n",
    "rows = 1\n",
    "for i in range(1, columns*rows +1):\n",
    "    img = test_list[i-1]\n",
    "    fig.add_subplot(rows, columns, i)\n",
    "    plt.imshow(img)\n",
    "plt.show()"
   ]
  },
  {
   "cell_type": "markdown",
   "metadata": {},
   "source": [
    "# Predict the Sign Type for Each Image"
   ]
  },
  {
   "cell_type": "code",
   "execution_count": 36,
   "metadata": {
    "collapsed": true
   },
   "outputs": [],
   "source": [
    "# Preprocess\n",
    "prep_x_list = []\n",
    "for img in x_list:\n",
    "    prep_x_list.append(rgb2gray(img))\n",
    "prep_x_list = np.asarray(prep_x_list)\n",
    "prep_x_list = np.resize(prep_x_list,(5,32,32,1))\n",
    "prep_x_list = (prep_x_list-128.0)/128.0\n",
    "x_list = (x_list-128.0)/128.0"
   ]
  },
  {
   "cell_type": "markdown",
   "metadata": {},
   "source": [
    "### Analyze Performance"
   ]
  },
  {
   "cell_type": "code",
   "execution_count": 31,
   "metadata": {},
   "outputs": [
    {
     "name": "stdout",
     "output_type": "stream",
     "text": [
      "Test Accuracy = 1.00\n"
     ]
    }
   ],
   "source": [
    "### Calculate the accuracy for these 5 new images. \n",
    "with tf.Session() as sess:\n",
    "    saver.restore(sess,tf.train.latest_checkpoint('.'))\n",
    "    \n",
    "    test_new_accuracy = evaluate(prep_x_list, test_label)\n",
    "    print(\"Test Accuracy = {:.2f}\".format(test_new_accuracy))"
   ]
  },
  {
   "cell_type": "markdown",
   "metadata": {},
   "source": [
    "### Output Top 5 Softmax Probabilities For Each Image Found on the Web"
   ]
  },
  {
   "cell_type": "markdown",
   "metadata": {},
   "source": [
    "For each of the new images, print out the model's softmax probabilities to show the **certainty** of the model's predictions (limit the output to the top 5 probabilities for each image). [`tf.nn.top_k`](https://www.tensorflow.org/versions/r0.12/api_docs/python/nn.html#top_k) could prove helpful here. \n",
    "\n",
    "The example below demonstrates how tf.nn.top_k can be used to find the top k predictions for each image.\n",
    "\n",
    "`tf.nn.top_k` will return the values and indices (class ids) of the top k predictions. So if k=3, for each sign, it'll return the 3 largest probabilities (out of a possible 43) and the correspoding class ids.\n",
    "\n",
    "Take this numpy array as an example. The values in the array represent predictions. The array contains softmax probabilities for five candidate images with six possible classes. `tf.nn.top_k` is used to choose the three classes with the highest probability:\n",
    "\n",
    "```\n",
    "# (5, 6) array\n",
    "a = np.array([[ 0.24879643,  0.07032244,  0.12641572,  0.34763842,  0.07893497,\n",
    "         0.12789202],\n",
    "       [ 0.28086119,  0.27569815,  0.08594638,  0.0178669 ,  0.18063401,\n",
    "         0.15899337],\n",
    "       [ 0.26076848,  0.23664738,  0.08020603,  0.07001922,  0.1134371 ,\n",
    "         0.23892179],\n",
    "       [ 0.11943333,  0.29198961,  0.02605103,  0.26234032,  0.1351348 ,\n",
    "         0.16505091],\n",
    "       [ 0.09561176,  0.34396535,  0.0643941 ,  0.16240774,  0.24206137,\n",
    "         0.09155967]])\n",
    "```\n",
    "\n",
    "Running it through `sess.run(tf.nn.top_k(tf.constant(a), k=3))` produces:\n",
    "\n",
    "```\n",
    "TopKV2(values=array([[ 0.34763842,  0.24879643,  0.12789202],\n",
    "       [ 0.28086119,  0.27569815,  0.18063401],\n",
    "       [ 0.26076848,  0.23892179,  0.23664738],\n",
    "       [ 0.29198961,  0.26234032,  0.16505091],\n",
    "       [ 0.34396535,  0.24206137,  0.16240774]]), indices=array([[3, 0, 5],\n",
    "       [0, 1, 4],\n",
    "       [0, 5, 1],\n",
    "       [1, 3, 5],\n",
    "       [1, 4, 3]], dtype=int32))\n",
    "```\n",
    "\n",
    "Looking just at the first row we get `[ 0.34763842,  0.24879643,  0.12789202]`, you can confirm these are the 3 largest probabilities in `a`. You'll also notice `[3, 0, 5]` are the corresponding indices."
   ]
  },
  {
   "cell_type": "code",
   "execution_count": 37,
   "metadata": {},
   "outputs": [
    {
     "name": "stdout",
     "output_type": "stream",
     "text": [
      "TopKV2(values=array([[[-0.265625 , -0.3203125, -0.3359375],\n",
      "        [-0.3359375, -0.359375 , -0.453125 ],\n",
      "        [-0.3515625, -0.3671875, -0.4140625],\n",
      "        ..., \n",
      "        [-0.0625   , -0.078125 , -0.21875  ],\n",
      "        [-0.2265625, -0.296875 , -0.3515625],\n",
      "        [-0.1796875, -0.265625 , -0.359375 ]],\n",
      "\n",
      "       [[-0.2265625, -0.2890625, -0.296875 ],\n",
      "        [-0.3515625, -0.375    , -0.4609375],\n",
      "        [-0.40625  , -0.421875 , -0.46875  ],\n",
      "        ..., \n",
      "        [ 0.40625  ,  0.3984375,  0.28125  ],\n",
      "        [ 0.0390625, -0.046875 , -0.1171875],\n",
      "        [-0.1328125, -0.2734375, -0.3046875]],\n",
      "\n",
      "       [[-0.25     , -0.3359375, -0.3359375],\n",
      "        [-0.3828125, -0.40625  , -0.5      ],\n",
      "        [-0.3984375, -0.4140625, -0.453125 ],\n",
      "        ..., \n",
      "        [ 0.3671875,  0.3203125,  0.2421875],\n",
      "        [ 0.3828125,  0.3046875,  0.2265625],\n",
      "        [-0.015625 , -0.1171875, -0.1875   ]],\n",
      "\n",
      "       ..., \n",
      "       [[-0.0703125, -0.1640625, -0.359375 ],\n",
      "        [-0.0234375, -0.15625  , -0.3671875],\n",
      "        [ 0.0078125, -0.1484375, -0.3671875],\n",
      "        ..., \n",
      "        [ 0.6640625,  0.5625   ,  0.4140625],\n",
      "        [ 0.6875   ,  0.6171875,  0.4375   ],\n",
      "        [ 0.5078125,  0.3828125,  0.28125  ]],\n",
      "\n",
      "       [[-0.1171875, -0.1953125, -0.390625 ],\n",
      "        [-0.046875 , -0.1640625, -0.359375 ],\n",
      "        [ 0.0234375, -0.1015625, -0.3359375],\n",
      "        ..., \n",
      "        [ 0.5703125,  0.4765625,  0.2421875],\n",
      "        [ 0.2265625,  0.140625 , -0.09375  ],\n",
      "        [ 0.1640625,  0.078125 , -0.109375 ]],\n",
      "\n",
      "       [[-0.140625 , -0.1875   , -0.3828125],\n",
      "        [-0.109375 , -0.171875 , -0.3515625],\n",
      "        [-0.0546875, -0.125    , -0.3359375],\n",
      "        ..., \n",
      "        [ 0.21875  ,  0.109375 , -0.140625 ],\n",
      "        [-0.0859375, -0.203125 , -0.453125 ],\n",
      "        [ 0.125    ,  0.09375  , -0.203125 ]]]), indices=array([[[1, 2, 0],\n",
      "        [1, 2, 0],\n",
      "        [1, 2, 0],\n",
      "        ..., \n",
      "        [2, 1, 0],\n",
      "        [1, 2, 0],\n",
      "        [1, 0, 2]],\n",
      "\n",
      "       [[1, 2, 0],\n",
      "        [1, 2, 0],\n",
      "        [1, 2, 0],\n",
      "        ..., \n",
      "        [1, 2, 0],\n",
      "        [1, 2, 0],\n",
      "        [1, 0, 2]],\n",
      "\n",
      "       [[1, 0, 2],\n",
      "        [1, 2, 0],\n",
      "        [1, 2, 0],\n",
      "        ..., \n",
      "        [1, 2, 0],\n",
      "        [1, 2, 0],\n",
      "        [1, 2, 0]],\n",
      "\n",
      "       ..., \n",
      "       [[0, 1, 2],\n",
      "        [0, 1, 2],\n",
      "        [0, 1, 2],\n",
      "        ..., \n",
      "        [2, 1, 0],\n",
      "        [2, 1, 0],\n",
      "        [2, 1, 0]],\n",
      "\n",
      "       [[0, 1, 2],\n",
      "        [0, 1, 2],\n",
      "        [0, 1, 2],\n",
      "        ..., \n",
      "        [2, 1, 0],\n",
      "        [2, 1, 0],\n",
      "        [2, 1, 0]],\n",
      "\n",
      "       [[0, 1, 2],\n",
      "        [0, 1, 2],\n",
      "        [0, 1, 2],\n",
      "        ..., \n",
      "        [2, 1, 0],\n",
      "        [2, 1, 0],\n",
      "        [2, 1, 0]]], dtype=int32))\n"
     ]
    }
   ],
   "source": [
    "# first image\n",
    "with tf.Session() as sess:\n",
    "    print(sess.run(tf.nn.top_k(tf.constant(x_list[0]), k=3)))"
   ]
  },
  {
   "cell_type": "code",
   "execution_count": 38,
   "metadata": {},
   "outputs": [
    {
     "name": "stdout",
     "output_type": "stream",
     "text": [
      "TopKV2(values=array([[[-0.203125 , -0.3359375, -0.4453125],\n",
      "        [-0.1796875, -0.3359375, -0.4453125],\n",
      "        [-0.1640625, -0.2890625, -0.390625 ],\n",
      "        ..., \n",
      "        [-0.296875 , -0.3046875, -0.34375  ],\n",
      "        [-0.3515625, -0.390625 , -0.4140625],\n",
      "        [-0.328125 , -0.3359375, -0.359375 ]],\n",
      "\n",
      "       [[-0.203125 , -0.3359375, -0.4296875],\n",
      "        [-0.1640625, -0.3046875, -0.421875 ],\n",
      "        [-0.1484375, -0.265625 , -0.3671875],\n",
      "        ..., \n",
      "        [-0.25     , -0.2578125, -0.2890625],\n",
      "        [-0.3515625, -0.3828125, -0.421875 ],\n",
      "        [-0.3359375, -0.34375  , -0.3828125]],\n",
      "\n",
      "       [[-0.1953125, -0.3203125, -0.3984375],\n",
      "        [-0.1875   , -0.296875 , -0.40625  ],\n",
      "        [-0.140625 , -0.265625 , -0.359375 ],\n",
      "        ..., \n",
      "        [-0.25     , -0.2734375, -0.3125   ],\n",
      "        [-0.3671875, -0.3984375, -0.421875 ],\n",
      "        [-0.3359375, -0.3515625, -0.390625 ]],\n",
      "\n",
      "       ..., \n",
      "       [[-0.25     , -0.390625 , -0.484375 ],\n",
      "        [-0.21875  , -0.3671875, -0.4765625],\n",
      "        [-0.1875   , -0.3359375, -0.453125 ],\n",
      "        ..., \n",
      "        [-0.171875 , -0.328125 , -0.4140625],\n",
      "        [-0.203125 , -0.34375  , -0.4453125],\n",
      "        [-0.3046875, -0.4140625, -0.515625 ]],\n",
      "\n",
      "       [[-0.25     , -0.390625 , -0.453125 ],\n",
      "        [-0.1796875, -0.3359375, -0.4140625],\n",
      "        [-0.171875 , -0.328125 , -0.40625  ],\n",
      "        ..., \n",
      "        [-0.171875 , -0.328125 , -0.421875 ],\n",
      "        [-0.1953125, -0.34375  , -0.4375   ],\n",
      "        [-0.2734375, -0.390625 , -0.484375 ]],\n",
      "\n",
      "       [[-0.2421875, -0.390625 , -0.4453125],\n",
      "        [-0.1796875, -0.3359375, -0.390625 ],\n",
      "        [-0.171875 , -0.328125 , -0.3984375],\n",
      "        ..., \n",
      "        [-0.171875 , -0.328125 , -0.421875 ],\n",
      "        [-0.1953125, -0.34375  , -0.4375   ],\n",
      "        [-0.265625 , -0.390625 , -0.484375 ]]]), indices=array([[[0, 1, 2],\n",
      "        [0, 1, 2],\n",
      "        [0, 1, 2],\n",
      "        ..., \n",
      "        [2, 1, 0],\n",
      "        [2, 1, 0],\n",
      "        [2, 1, 0]],\n",
      "\n",
      "       [[0, 1, 2],\n",
      "        [0, 1, 2],\n",
      "        [0, 1, 2],\n",
      "        ..., \n",
      "        [2, 1, 0],\n",
      "        [2, 1, 0],\n",
      "        [2, 1, 0]],\n",
      "\n",
      "       [[0, 1, 2],\n",
      "        [0, 1, 2],\n",
      "        [0, 1, 2],\n",
      "        ..., \n",
      "        [2, 1, 0],\n",
      "        [2, 1, 0],\n",
      "        [2, 1, 0]],\n",
      "\n",
      "       ..., \n",
      "       [[0, 1, 2],\n",
      "        [0, 1, 2],\n",
      "        [0, 1, 2],\n",
      "        ..., \n",
      "        [0, 1, 2],\n",
      "        [0, 1, 2],\n",
      "        [0, 1, 2]],\n",
      "\n",
      "       [[0, 1, 2],\n",
      "        [0, 1, 2],\n",
      "        [0, 1, 2],\n",
      "        ..., \n",
      "        [0, 1, 2],\n",
      "        [0, 1, 2],\n",
      "        [0, 1, 2]],\n",
      "\n",
      "       [[0, 1, 2],\n",
      "        [0, 1, 2],\n",
      "        [0, 1, 2],\n",
      "        ..., \n",
      "        [0, 1, 2],\n",
      "        [0, 1, 2],\n",
      "        [0, 1, 2]]], dtype=int32))\n"
     ]
    }
   ],
   "source": [
    "# second image\n",
    "with tf.Session() as sess:\n",
    "    print(sess.run(tf.nn.top_k(tf.constant(x_list[1]), k=3)))"
   ]
  },
  {
   "cell_type": "code",
   "execution_count": 39,
   "metadata": {},
   "outputs": [
    {
     "name": "stdout",
     "output_type": "stream",
     "text": [
      "TopKV2(values=array([[[ 0.3359375,  0.3359375,  0.265625 ],\n",
      "        [-0.0859375, -0.1484375, -0.15625  ],\n",
      "        [-0.4765625, -0.5      , -0.546875 ],\n",
      "        ..., \n",
      "        [ 0.34375  ,  0.015625 , -0.125    ],\n",
      "        [ 0.359375 ,  0.046875 , -0.109375 ],\n",
      "        [ 0.3828125,  0.046875 , -0.1328125]],\n",
      "\n",
      "       [[ 0.375    ,  0.34375  ,  0.2890625],\n",
      "        [ 0.03125  ,  0.       , -0.0546875],\n",
      "        [-0.0078125, -0.0859375, -0.1328125],\n",
      "        ..., \n",
      "        [ 0.3828125,  0.0390625, -0.109375 ],\n",
      "        [ 0.4375   ,  0.140625 , -0.0234375],\n",
      "        [ 0.5625   ,  0.2734375,  0.109375 ]],\n",
      "\n",
      "       [[-0.3359375, -0.375    , -0.421875 ],\n",
      "        [-0.4296875, -0.4296875, -0.5      ],\n",
      "        [ 0.09375  ,  0.046875 , -0.015625 ],\n",
      "        ..., \n",
      "        [ 0.4453125,  0.140625 ,  0.       ],\n",
      "        [ 0.5      ,  0.21875  ,  0.0546875],\n",
      "        [ 0.3515625,  0.09375  , -0.0390625]],\n",
      "\n",
      "       ..., \n",
      "       [[-0.0859375, -0.109375 , -0.1796875],\n",
      "        [ 0.2734375,  0.234375 ,  0.15625  ],\n",
      "        [ 0.234375 ,  0.1640625,  0.1015625],\n",
      "        ..., \n",
      "        [ 0.59375  ,  0.2578125,  0.140625 ],\n",
      "        [ 0.4609375,  0.171875 ,  0.0078125],\n",
      "        [ 0.4453125,  0.203125 , -0.0078125]],\n",
      "\n",
      "       [[-0.0546875, -0.125    , -0.1953125],\n",
      "        [ 0.3046875,  0.265625 ,  0.1484375],\n",
      "        [ 0.25     ,  0.2265625,  0.15625  ],\n",
      "        ..., \n",
      "        [ 0.53125  ,  0.1953125,  0.0546875],\n",
      "        [ 0.3671875,  0.0390625, -0.109375 ],\n",
      "        [ 0.265625 , -0.0625   , -0.21875  ]],\n",
      "\n",
      "       [[ 0.       , -0.078125 , -0.125    ],\n",
      "        [ 0.296875 ,  0.2578125,  0.15625  ],\n",
      "        [ 0.25     ,  0.234375 ,  0.171875 ],\n",
      "        ..., \n",
      "        [ 0.3671875,  0.0390625, -0.1015625],\n",
      "        [ 0.2578125, -0.0625   , -0.1953125],\n",
      "        [ 0.21875  , -0.0703125, -0.2109375]]]), indices=array([[[1, 2, 0],\n",
      "        [1, 0, 2],\n",
      "        [2, 1, 0],\n",
      "        ..., \n",
      "        [0, 1, 2],\n",
      "        [0, 1, 2],\n",
      "        [0, 1, 2]],\n",
      "\n",
      "       [[1, 2, 0],\n",
      "        [1, 2, 0],\n",
      "        [2, 1, 0],\n",
      "        ..., \n",
      "        [0, 1, 2],\n",
      "        [0, 1, 2],\n",
      "        [0, 1, 2]],\n",
      "\n",
      "       [[1, 2, 0],\n",
      "        [1, 2, 0],\n",
      "        [2, 1, 0],\n",
      "        ..., \n",
      "        [0, 1, 2],\n",
      "        [0, 1, 2],\n",
      "        [0, 1, 2]],\n",
      "\n",
      "       ..., \n",
      "       [[2, 1, 0],\n",
      "        [2, 1, 0],\n",
      "        [2, 1, 0],\n",
      "        ..., \n",
      "        [0, 1, 2],\n",
      "        [0, 1, 2],\n",
      "        [0, 1, 2]],\n",
      "\n",
      "       [[2, 1, 0],\n",
      "        [2, 1, 0],\n",
      "        [2, 1, 0],\n",
      "        ..., \n",
      "        [0, 1, 2],\n",
      "        [0, 1, 2],\n",
      "        [0, 1, 2]],\n",
      "\n",
      "       [[2, 1, 0],\n",
      "        [2, 1, 0],\n",
      "        [2, 1, 0],\n",
      "        ..., \n",
      "        [0, 1, 2],\n",
      "        [0, 1, 2],\n",
      "        [0, 1, 2]]], dtype=int32))\n"
     ]
    }
   ],
   "source": [
    "# third image\n",
    "with tf.Session() as sess:\n",
    "    print(sess.run(tf.nn.top_k(tf.constant(x_list[2]), k=3)))"
   ]
  },
  {
   "cell_type": "code",
   "execution_count": 40,
   "metadata": {},
   "outputs": [
    {
     "name": "stdout",
     "output_type": "stream",
     "text": [
      "TopKV2(values=array([[[ 0.2421875,  0.234375 ,  0.1875   ],\n",
      "        [ 0.25     ,  0.25     ,  0.171875 ],\n",
      "        [ 0.3203125,  0.3125   ,  0.265625 ],\n",
      "        ..., \n",
      "        [-0.3515625, -0.3828125, -0.4765625],\n",
      "        [-0.53125  , -0.6328125, -0.7265625],\n",
      "        [ 0.0703125, -0.0625   , -0.109375 ]],\n",
      "\n",
      "       [[ 0.359375 ,  0.3515625,  0.3359375],\n",
      "        [ 0.3671875,  0.3671875,  0.34375  ],\n",
      "        [ 0.359375 ,  0.3359375,  0.3125   ],\n",
      "        ..., \n",
      "        [ 0.2421875,  0.1875   ,  0.15625  ],\n",
      "        [ 0.0703125, -0.015625 , -0.0625   ],\n",
      "        [ 0.203125 ,  0.1484375,  0.09375  ]],\n",
      "\n",
      "       [[ 0.046875 ,  0.015625 , -0.015625 ],\n",
      "        [ 0.0625   ,  0.046875 ,  0.03125  ],\n",
      "        [ 0.0859375,  0.0703125,  0.0234375],\n",
      "        ..., \n",
      "        [ 0.390625 ,  0.3671875,  0.3359375],\n",
      "        [ 0.1796875,  0.140625 ,  0.1328125],\n",
      "        [ 0.0703125,  0.0546875,  0.03125  ]],\n",
      "\n",
      "       ..., \n",
      "       [[-0.1875   , -0.25     , -0.3046875],\n",
      "        [-0.140625 , -0.1953125, -0.265625 ],\n",
      "        [-0.09375  , -0.140625 , -0.2109375],\n",
      "        ..., \n",
      "        [-0.1953125, -0.234375 , -0.2734375],\n",
      "        [-0.1796875, -0.21875  , -0.3203125],\n",
      "        [-0.234375 , -0.2421875, -0.46875  ]],\n",
      "\n",
      "       [[-0.140625 , -0.1953125, -0.265625 ],\n",
      "        [-0.1875   , -0.234375 , -0.3046875],\n",
      "        [-0.234375 , -0.2890625, -0.359375 ],\n",
      "        ..., \n",
      "        [-0.421875 , -0.5078125, -0.5703125],\n",
      "        [-0.3515625, -0.375    , -0.5625   ],\n",
      "        [-0.375    , -0.4140625, -0.671875 ]],\n",
      "\n",
      "       [[-0.1328125, -0.1875   , -0.2421875],\n",
      "        [-0.140625 , -0.203125 , -0.265625 ],\n",
      "        [-0.140625 , -0.1953125, -0.2734375],\n",
      "        ..., \n",
      "        [-0.078125 , -0.171875 , -0.296875 ],\n",
      "        [-0.1015625, -0.1796875, -0.375    ],\n",
      "        [-0.3125   , -0.34375  , -0.5703125]]]), indices=array([[[1, 2, 0],\n",
      "        [1, 2, 0],\n",
      "        [2, 1, 0],\n",
      "        ..., \n",
      "        [2, 1, 0],\n",
      "        [2, 1, 0],\n",
      "        [2, 1, 0]],\n",
      "\n",
      "       [[2, 1, 0],\n",
      "        [1, 2, 0],\n",
      "        [1, 2, 0],\n",
      "        ..., \n",
      "        [2, 1, 0],\n",
      "        [2, 1, 0],\n",
      "        [2, 1, 0]],\n",
      "\n",
      "       [[2, 1, 0],\n",
      "        [2, 1, 0],\n",
      "        [2, 1, 0],\n",
      "        ..., \n",
      "        [2, 1, 0],\n",
      "        [2, 1, 0],\n",
      "        [2, 1, 0]],\n",
      "\n",
      "       ..., \n",
      "       [[0, 1, 2],\n",
      "        [0, 1, 2],\n",
      "        [0, 1, 2],\n",
      "        ..., \n",
      "        [0, 1, 2],\n",
      "        [0, 1, 2],\n",
      "        [1, 0, 2]],\n",
      "\n",
      "       [[0, 1, 2],\n",
      "        [0, 1, 2],\n",
      "        [0, 1, 2],\n",
      "        ..., \n",
      "        [0, 1, 2],\n",
      "        [0, 1, 2],\n",
      "        [1, 0, 2]],\n",
      "\n",
      "       [[0, 1, 2],\n",
      "        [0, 1, 2],\n",
      "        [0, 1, 2],\n",
      "        ..., \n",
      "        [0, 1, 2],\n",
      "        [0, 1, 2],\n",
      "        [0, 1, 2]]], dtype=int32))\n"
     ]
    }
   ],
   "source": [
    "# fourth image\n",
    "with tf.Session() as sess:\n",
    "    print(sess.run(tf.nn.top_k(tf.constant(x_list[3]), k=3)))"
   ]
  },
  {
   "cell_type": "code",
   "execution_count": 41,
   "metadata": {},
   "outputs": [
    {
     "name": "stdout",
     "output_type": "stream",
     "text": [
      "TopKV2(values=array([[[ 0.0234375, -0.0546875, -0.109375 ],\n",
      "        [ 0.0390625, -0.0390625, -0.1015625],\n",
      "        [-0.03125  , -0.1015625, -0.140625 ],\n",
      "        ..., \n",
      "        [-0.03125  , -0.09375  , -0.140625 ],\n",
      "        [-0.03125  , -0.1171875, -0.140625 ],\n",
      "        [-0.015625 , -0.1015625, -0.125    ]],\n",
      "\n",
      "       [[-0.1171875, -0.1953125, -0.25     ],\n",
      "        [-0.078125 , -0.1640625, -0.2109375],\n",
      "        [-0.0546875, -0.125    , -0.1875   ],\n",
      "        ..., \n",
      "        [-0.0234375, -0.109375 , -0.1484375],\n",
      "        [-0.0234375, -0.1015625, -0.1328125],\n",
      "        [-0.015625 , -0.1015625, -0.1484375]],\n",
      "\n",
      "       [[-0.0390625, -0.1171875, -0.171875 ],\n",
      "        [-0.0390625, -0.1171875, -0.1640625],\n",
      "        [-0.0390625, -0.109375 , -0.1796875],\n",
      "        ..., \n",
      "        [-0.0859375, -0.1796875, -0.203125 ],\n",
      "        [-0.0625   , -0.1484375, -0.1796875],\n",
      "        [-0.0390625, -0.1171875, -0.1796875]],\n",
      "\n",
      "       ..., \n",
      "       [[-0.0390625, -0.109375 , -0.1484375],\n",
      "        [-0.0390625, -0.1171875, -0.1484375],\n",
      "        [-0.015625 , -0.1015625, -0.1328125],\n",
      "        ..., \n",
      "        [-0.7109375, -0.765625 , -0.84375  ],\n",
      "        [-0.71875  , -0.7734375, -0.859375 ],\n",
      "        [-0.7265625, -0.7734375, -0.8984375]],\n",
      "\n",
      "       [[-0.0234375, -0.09375  , -0.15625  ],\n",
      "        [-0.0234375, -0.09375  , -0.15625  ],\n",
      "        [-0.015625 , -0.09375  , -0.15625  ],\n",
      "        ..., \n",
      "        [-0.703125 , -0.765625 , -0.8671875],\n",
      "        [-0.71875  , -0.7734375, -0.875    ],\n",
      "        [-0.703125 , -0.75     , -0.8828125]],\n",
      "\n",
      "       [[ 0.       , -0.078125 , -0.1484375],\n",
      "        [-0.015625 , -0.09375  , -0.1640625],\n",
      "        [-0.015625 , -0.09375  , -0.1640625],\n",
      "        ..., \n",
      "        [-0.6953125, -0.7734375, -0.890625 ],\n",
      "        [-0.65625  , -0.71875  , -0.8515625],\n",
      "        [-0.6640625, -0.6953125, -0.84375  ]]]), indices=array([[[2, 1, 0],\n",
      "        [2, 1, 0],\n",
      "        [2, 1, 0],\n",
      "        ..., \n",
      "        [2, 1, 0],\n",
      "        [2, 1, 0],\n",
      "        [2, 1, 0]],\n",
      "\n",
      "       [[2, 1, 0],\n",
      "        [2, 1, 0],\n",
      "        [2, 1, 0],\n",
      "        ..., \n",
      "        [2, 1, 0],\n",
      "        [2, 1, 0],\n",
      "        [2, 1, 0]],\n",
      "\n",
      "       [[2, 1, 0],\n",
      "        [2, 1, 0],\n",
      "        [2, 1, 0],\n",
      "        ..., \n",
      "        [2, 1, 0],\n",
      "        [2, 1, 0],\n",
      "        [2, 1, 0]],\n",
      "\n",
      "       ..., \n",
      "       [[2, 1, 0],\n",
      "        [2, 1, 0],\n",
      "        [2, 1, 0],\n",
      "        ..., \n",
      "        [0, 1, 2],\n",
      "        [0, 1, 2],\n",
      "        [0, 1, 2]],\n",
      "\n",
      "       [[2, 1, 0],\n",
      "        [2, 1, 0],\n",
      "        [2, 1, 0],\n",
      "        ..., \n",
      "        [0, 1, 2],\n",
      "        [0, 1, 2],\n",
      "        [0, 1, 2]],\n",
      "\n",
      "       [[2, 1, 0],\n",
      "        [2, 1, 0],\n",
      "        [2, 1, 0],\n",
      "        ..., \n",
      "        [0, 1, 2],\n",
      "        [0, 1, 2],\n",
      "        [0, 1, 2]]], dtype=int32))\n"
     ]
    }
   ],
   "source": [
    "# fourth image\n",
    "with tf.Session() as sess:\n",
    "    print(sess.run(tf.nn.top_k(tf.constant(x_list[4]), k=3)))"
   ]
  },
  {
   "cell_type": "markdown",
   "metadata": {},
   "source": [
    "### Project Writeup\n",
    "\n",
    "Once you have completed the code implementation, document your results in a project writeup using this [template](https://github.com/udacity/CarND-Traffic-Sign-Classifier-Project/blob/master/writeup_template.md) as a guide. The writeup can be in a markdown or pdf file. "
   ]
  },
  {
   "cell_type": "markdown",
   "metadata": {},
   "source": [
    "> **Note**: Once you have completed all of the code implementations and successfully answered each question above, you may finalize your work by exporting the iPython Notebook as an HTML document. You can do this by using the menu above and navigating to  \\n\",\n",
    "    \"**File -> Download as -> HTML (.html)**. Include the finished document along with this notebook as your submission."
   ]
  },
  {
   "cell_type": "markdown",
   "metadata": {},
   "source": [
    "---\n",
    "\n",
    "## Step 4 (Optional): Visualize the Neural Network's State with Test Images\n",
    "\n",
    " This Section is not required to complete but acts as an additional excersise for understaning the output of a neural network's weights. While neural networks can be a great learning device they are often referred to as a black box. We can understand what the weights of a neural network look like better by plotting their feature maps. After successfully training your neural network you can see what it's feature maps look like by plotting the output of the network's weight layers in response to a test stimuli image. From these plotted feature maps, it's possible to see what characteristics of an image the network finds interesting. For a sign, maybe the inner network feature maps react with high activation to the sign's boundary outline or to the contrast in the sign's painted symbol.\n",
    "\n",
    " Provided for you below is the function code that allows you to get the visualization output of any tensorflow weight layer you want. The inputs to the function should be a stimuli image, one used during training or a new one you provided, and then the tensorflow variable name that represents the layer's state during the training process, for instance if you wanted to see what the [LeNet lab's](https://classroom.udacity.com/nanodegrees/nd013/parts/fbf77062-5703-404e-b60c-95b78b2f3f9e/modules/6df7ae49-c61c-4bb2-a23e-6527e69209ec/lessons/601ae704-1035-4287-8b11-e2c2716217ad/concepts/d4aca031-508f-4e0b-b493-e7b706120f81) feature maps looked like for it's second convolutional layer you could enter conv2 as the tf_activation variable.\n",
    "\n",
    "For an example of what feature map outputs look like, check out NVIDIA's results in their paper [End-to-End Deep Learning for Self-Driving Cars](https://devblogs.nvidia.com/parallelforall/deep-learning-self-driving-cars/) in the section Visualization of internal CNN State. NVIDIA was able to show that their network's inner weights had high activations to road boundary lines by comparing feature maps from an image with a clear path to one without. Try experimenting with a similar test to show that your trained network's weights are looking for interesting features, whether it's looking at differences in feature maps from images with or without a sign, or even what feature maps look like in a trained network vs a completely untrained one on the same sign image.\n",
    "\n",
    "<figure>\n",
    " <img src=\"visualize_cnn.png\" width=\"380\" alt=\"Combined Image\" />\n",
    " <figcaption>\n",
    " <p></p> \n",
    " <p style=\"text-align: center;\"> Your output should look something like this (above)</p> \n",
    " </figcaption>\n",
    "</figure>\n",
    " <p></p> \n"
   ]
  },
  {
   "cell_type": "code",
   "execution_count": null,
   "metadata": {
    "collapsed": true
   },
   "outputs": [],
   "source": [
    "### Visualize your network's feature maps here.\n",
    "### Feel free to use as many code cells as needed.\n",
    "\n",
    "# image_input: the test image being fed into the network to produce the feature maps\n",
    "# tf_activation: should be a tf variable name used during your training procedure that represents the calculated state of a specific weight layer\n",
    "# activation_min/max: can be used to view the activation contrast in more detail, by default matplot sets min and max to the actual min and max values of the output\n",
    "# plt_num: used to plot out multiple different weight feature map sets on the same block, just extend the plt number for each new feature map entry\n",
    "\n",
    "def outputFeatureMap(image_input, tf_activation, activation_min=-1, activation_max=-1 ,plt_num=1):\n",
    "    # Here make sure to preprocess your image_input in a way your network expects\n",
    "    # with size, normalization, ect if needed\n",
    "    # image_input =\n",
    "    # Note: x should be the same name as your network's tensorflow data placeholder variable\n",
    "    # If you get an error tf_activation is not defined it may be having trouble accessing the variable from inside a function\n",
    "    activation = tf_activation.eval(session=sess,feed_dict={x : image_input})\n",
    "    featuremaps = activation.shape[3]\n",
    "    plt.figure(plt_num, figsize=(15,15))\n",
    "    for featuremap in range(featuremaps):\n",
    "        plt.subplot(6,8, featuremap+1) # sets the number of feature maps to show on each row and column\n",
    "        plt.title('FeatureMap ' + str(featuremap)) # displays the feature map number\n",
    "        if activation_min != -1 & activation_max != -1:\n",
    "            plt.imshow(activation[0,:,:, featuremap], interpolation=\"nearest\", vmin =activation_min, vmax=activation_max, cmap=\"gray\")\n",
    "        elif activation_max != -1:\n",
    "            plt.imshow(activation[0,:,:, featuremap], interpolation=\"nearest\", vmax=activation_max, cmap=\"gray\")\n",
    "        elif activation_min !=-1:\n",
    "            plt.imshow(activation[0,:,:, featuremap], interpolation=\"nearest\", vmin=activation_min, cmap=\"gray\")\n",
    "        else:\n",
    "            plt.imshow(activation[0,:,:, featuremap], interpolation=\"nearest\", cmap=\"gray\")"
   ]
  }
 ],
 "metadata": {
  "anaconda-cloud": {},
  "kernelspec": {
   "display_name": "Python 3",
   "language": "python",
   "name": "python3"
  },
  "language_info": {
   "codemirror_mode": {
    "name": "ipython",
    "version": 3
   },
   "file_extension": ".py",
   "mimetype": "text/x-python",
   "name": "python",
   "nbconvert_exporter": "python",
   "pygments_lexer": "ipython3",
   "version": "3.5.2"
  },
  "widgets": {
   "state": {},
   "version": "1.1.2"
  }
 },
 "nbformat": 4,
 "nbformat_minor": 1
}
